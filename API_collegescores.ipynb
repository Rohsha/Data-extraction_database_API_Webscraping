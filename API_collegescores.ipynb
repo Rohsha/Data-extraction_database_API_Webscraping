{
 "cells": [
  {
   "cell_type": "code",
   "execution_count": 1,
   "metadata": {},
   "outputs": [],
   "source": [
    "import requests"
   ]
  },
  {
   "cell_type": "code",
   "execution_count": 2,
   "metadata": {},
   "outputs": [],
   "source": [
    "url='https://api.data.gov/ed/cpllegescorecard/v1/schools?school.name=boston%20college&api_key=SOX5AQ5TV5CpCGuw8f290KbKHvtrjvA6rUuNcwZi'\n"
   ]
  },
  {
   "cell_type": "code",
   "execution_count": 10,
   "metadata": {},
   "outputs": [],
   "source": [
    "result=requests.get(url)"
   ]
  },
  {
   "cell_type": "code",
   "execution_count": 11,
   "metadata": {},
   "outputs": [
    {
     "data": {
      "text/plain": [
       "404"
      ]
     },
     "execution_count": 11,
     "metadata": {},
     "output_type": "execute_result"
    }
   ],
   "source": [
    "result.status_code"
   ]
  },
  {
   "cell_type": "code",
   "execution_count": 12,
   "metadata": {},
   "outputs": [
    {
     "data": {
      "text/plain": [
       "{'Date': 'Fri, 09 Oct 2020 18:12:26 GMT', 'Content-Type': 'text/html', 'Transfer-Encoding': 'chunked', 'Connection': 'keep-alive', 'Vary': 'Accept-Encoding', 'Cache-Control': 'max-age=0, no-cache, must-revalidate', 'Last-Modified': 'Thu, 24 Sep 2020 15:27:17 GMT', 'ETag': 'W/\"15449674561f0f82ca2d81ae0cadd57e\"', 'x-amz-error-code': 'NoSuchKey', 'x-amz-error-message': 'The specified key does not exist.', 'x-amz-error-detail-Key': 'ed/cpllegescorecard/v1/schools', 'x-amz-request-id': '376DC826C28EBCAB', 'x-amz-id-2': 'WU8jk6++qowy9kVH16DDOgE4n4ifLhYWcsHWtF2oZDnpwutsfexc/+nd1yWRYPUEOso5f5gWNG8=', 'Age': '0', 'Via': 'http/1.1 api-umbrella (ApacheTrafficServer [cMsSfW])', 'X-Cache': 'MISS', 'Strict-Transport-Security': 'max-age=31536000; preload', 'Content-Encoding': 'gzip'}"
      ]
     },
     "execution_count": 12,
     "metadata": {},
     "output_type": "execute_result"
    }
   ],
   "source": [
    "result.headers"
   ]
  },
  {
   "cell_type": "code",
   "execution_count": 13,
   "metadata": {},
   "outputs": [
    {
     "data": {
      "text/plain": [
       "'<!DOCTYPE html>\\n<html lang=\"en-US\" class=\"no-js\">\\n  <head>\\n      <base href=\"/\" />\\n<title>\\n    Page Not Found\\n    |\\n  api.data.gov\\n</title>\\n<meta http-equiv=\"X-UA-Compatible\" content=\"IE=edge,chrome=1\">\\n<meta content=\"text/html; charset=utf-8\" http-equiv=\"Content-Type\">\\n<meta content=\"en\" name=\"language\">\\n<meta name=\"viewport\" content=\"width=device-width, initial-scale=1\">\\n\\n<link rel=\"stylesheet\" href=\"//fonts.googleapis.com/css?family=Abel%7CLato%3A100%2C300%2C400%2C700&#038;ver=3.8\">\\n<link href=\"static/stylesheets/all-688a8ae0.css\" rel=\"stylesheet\" />\\n\\n<!--[if lt IE 9]>\\n  <script src=\"static/javascripts/ie_lt_9-9f2d2b9c.js\"></script>\\n<![endif]-->\\n<script src=\"static/javascripts/all-054394cd.js\"></script>\\n<script type=\"text/javascript\" id=\"_fed_an_ua_tag\" src=\"https://dap.digitalgov.gov/Universal-Federated-Analytics-Min.js?agency=GSA&subagency=TTS\"></script>\\n<script type=\"text/javascript\">\\n  var analyticsFileTypes = [\\'\\'];\\n  var analyticsSnippet = \\'enabled\\';\\n  var analyticsEventTracking = \\'enabled\\';\\n</script>\\n<script>\\n  (function(i,s,o,g,r,a,m){i[\\'GoogleAnalyticsObject\\']=r;i[r]=i[r]||function(){\\n  (i[r].q=i[r].q||[]).push(arguments)},i[r].l=1*new Date();a=s.createElement(o),\\n  m=s.getElementsByTagName(o)[0];a.async=1;a.src=g;m.parentNode.insertBefore(a,m)\\n  })(window,document,\\'script\\',\\'//www.google-analytics.com/analytics.js\\',\\'ga\\');\\n\\n  ga(\\'create\\', \\'UA-48605964-13\\', \\'auto\\');\\n  ga(\\'create\\', \\'UA-42542568-1\\', \\'auto\\', { name: \\'legacy\\' });\\n  ga(\\'send\\', \\'pageview\\');\\n  ga(\\'legacy.send\\', \\'pageview\\');\\n</script>\\n\\n\\n  </head>\\n  <body class=\"archive category x404\">\\n    <!--[if lt IE 8]>\\n  <div class=\"alert alert-warning\">\\n    You are using an <strong>outdated</strong> browser. Please <a href=\"http://browsehappy.com/\">upgrade your\\n    browser</a> to improve your experience.\\n  </div>\\n<![endif]-->\\n<header>\\n  <div class=\"banner navbar navbar-default navbar-static-top yamm\" role=\"banner\">\\n    <div class=\"container\">\\n      <div class=\"searchbox-row skip-navigation\">\\n        <div class=\"sr-only skip-link\">\\n          <a href=\"main\" class=\"local-link\">Jump to Content</a>\\n        </div>\\n        <div>\\n          <form role=\"search\" method=\"get\" class=\"search-form form-inline navbar-right navbar-nav  col-sm-6 col-md-6 col-lg-6\" action=\"//catalog.data.gov/dataset\">\\n            <div class=\"input-group\">\\n              <label for=\"search-header\" class=\"sr-only\">Search for:</label>\\n\\n\\n\\n              <input type=\"search\" id=\"search-header\" title=\"Example searches: Monthly House Price Indexes, Health Care Provider Charge Data, Credit Card Complaints, Manufacturing &amp; Trade Inventories &amp; Sales, Federal Student Loan Program Data\" data-strings=\\'{\"targets\":[\"Monthly House Price Indexes\",\"Health Care Provider Charge Data\",\"Credit Card Complaints\",\"Manufacturing &amp; Trade Inventories &amp; Sales\",\"Federal Student Loan Program Data\"]}\\' value=\"\" name=\"q\" class=\"search-field form-control\" placeholder=\"Search Data.gov\">\\n              <input type=\"hidden\" name=\"sort\" value=\"score desc, name asc\">\\n              <span class=\"input-group-btn\">\\n                <button type=\"submit\" class=\"search-submit btn btn-default\">\\n                  <i class=\"fa fa-search\"></i>\\n                  <span class=\"sr-only\">Search</span>\\n                </button>\\n              </span>\\n            </div>\\n          </form>\\n\\n        </div>\\n      </div>\\n\\n      <div class=\"navbar-header\">\\n        <button type=\"button\" class=\"navbar-toggle\" data-toggle=\"collapse\" data-target=\".navbar-collapse\">\\n          <span class=\"sr-only\">Toggle navigation</span>\\n          <span class=\"icon-bar\"></span>\\n          <span class=\"icon-bar\"></span>\\n          <span class=\"icon-bar\"></span>\\n        </button>\\n        <a href=\"https://www.data.gov/\" class=\"local-link\"><h1 class=\"navbar-brand\">Data.gov</h1></a>\\n      </div>\\n\\n      <nav class=\"collapse navbar-collapse\" role=\"navigation\">\\n        <ul id=\"menu-primary-navigation\" class=\"nav navbar-nav navbar-right\"><li class=\"menu-data\"><a href=\"http://catalog.data.gov/dataset\" class=\"local-link\">Data</a></li>\\n          <li class=\"dropdown yamm-fw menu-topics\"><a class=\"dropdown-toggle local-link\" data-toggle=\"dropdown\" data-target=\"#\" href=\"http://data.gov/communities/\">Topics <b class=\"caret\"></b></a>\\n          <ul class=\"dropdown-menu topics\">\\n            <li class=\"menu-agriculture topic-food\"><a href=\"http://data.gov/food/\" class=\"local-link\"><i></i><span>Agriculture</span></a></li>\\n            <li class=\"menu-climate topic-climate\"><a href=\"http://data.gov/climate/\" class=\"local-link\"><i></i><span>Climate</span></a></li>\\n            <li class=\"menu-consumer topic-consumer\"><a href=\"http://data.gov/consumer/\" class=\"local-link\"><i></i><span>Consumer</span></a></li>\\n            <li class=\"menu-education topic-education\"><a href=\"http://data.gov/education/\" class=\"local-link\"><i></i><span>Education</span></a></li>\\n            <li class=\"menu-energy topic-energy\"><a href=\"http://data.gov/energy/\" class=\"local-link\"><i></i><span>Energy</span></a></li>\\n            <li class=\"menu-finance topic-finance\"><a href=\"http://data.gov/finance\" class=\"local-link\"><i></i><span>Finance</span></a></li>\\n            <li class=\"menu-geospatial topic-geospatial\"><a href=\"http://data.gov/geospatial/\" class=\"local-link\"><i></i><span>Geospatial</span></a></li>\\n            <li class=\"menu-global-development topic-development\"><a href=\"http://data.gov/development/\" class=\"local-link\"><i></i><span>Global Development</span></a></li>\\n            <li class=\"menu-health topic-health\"><a href=\"http://data.gov/health/\" class=\"local-link\"><i></i><span>Health</span></a></li>\\n            <li class=\"menu-jobs-skills topic-jobs-and-skills\"><a href=\"http://data.gov/jobs-and-skills/\" class=\"local-link\"><i></i><span>Jobs &#038; Skills</span></a></li>\\n            <li class=\"menu-public-safety topic-safety\"><a href=\"http://data.gov/safety/\" class=\"local-link\"><i></i><span>Public Safety</span></a></li>\\n            <li class=\"menu-science-research topic-research\"><a href=\"http://data.gov/research/\" class=\"local-link\"><i></i><span>Science &#038; Research</span></a></li>\\n            <li class=\"menu-weather topic-weather\"><a href=\"http://data.gov/weather/\" class=\"local-link\"><i></i><span>Weather</span></a></li>\\n            <li class=\"menu-business topic-business\"><a href=\"http://data.gov/business/\" class=\"local-link\"><i></i><span>Business</span></a></li>\\n            <li class=\"menu-cities topic-cities\"><a href=\"http://data.gov/cities/\" class=\"local-link\"><i></i><span>Cities</span></a></li>\\n            <li class=\"menu-counties topic-counties\"><a href=\"http://data.gov/counties/\" class=\"local-link\"><i></i><span>Counties</span></a></li>\\n            <li class=\"menu-ethics topic-ethics\"><a href=\"https://explore.data.gov/ethics\" class=\"local-link\"><i></i><span>Ethics</span></a></li>\\n            <li class=\"menu-law topic-law\"><a href=\"http://data.gov/law/\" class=\"local-link\"><i></i><span>Law</span></a></li>\\n            <li class=\"menu-manufacturing topic-manufacturing\"><a href=\"http://data.gov/manufacturing/\" class=\"local-link\"><i></i><span>Manufacturing</span></a></li>\\n            <li class=\"menu-ocean topic-ocean\"><a href=\"http://data.gov/ocean/\" class=\"local-link\"><i></i><span>Ocean</span></a></li>\\n            <li class=\"menu-states topic-states\"><a href=\"http://data.gov/states/\" class=\"local-link\"><i></i><span>States</span></a></li>\\n          </ul>\\n          </li>\\n          <li class=\"menu-impact\"><a href=\"http://data.gov/impact/\" class=\"local-link\">Impact</a></li>\\n          <li class=\"menu-applications\"><a href=\"http://data.gov/applications\" class=\"local-link\">Applications</a></li>\\n          <li class=\"menu-developers\"><a href=\"http://data.gov/developers/\" class=\"local-link\">Developers</a></li>\\n          <li class=\"menu-contact\"><a href=\"/contact/\" class=\"local-link\">Contact</a></li>\\n        </ul>\\n      </nav>\\n    </div>\\n  </div>\\n\\n  <div class=\"header banner page-heading\">\\n    <div class=\"container\">\\n      <div class=\"page-header\">\\n        <h1>\\n          <div class=\"category-header\"><a href=\"/\" class=\"local-link\"><span>api.data.gov</span></a></div>\\n        </h1>\\n        <div class=\"tagline\">\\n        </div>\\n      </div>\\n    </div>\\n  </div>\\n</header>\\n\\n<div role=\"document\">\\n  <div class=\"content\">\\n    <main class=\"main\" role=\"main\" id=\"main\">\\n      <div class=\"subnav banner\">\\n        <div class=\"container\">\\n          <nav class=\"topic-subnav\" role=\"navigation\">\\n          <ul class=\"nav navbar-nav\">\\n            <li><a href=\"/docs/\" class=\"local-link\">API Docs</a></li>\\n            <li><a href=\"/signup\" class=\"local-link\">API Key Signup</a></li>\\n          </ul>\\n          </nav>\\n        </div>\\n      </div>\\n      \\n      <div class=\"wrap container content-page\">\\n\\n    <div class=\"alert alert-warning\">The page you are looking for is currently unavailable to view</div>\\n\\n<p>We have been upgrading our site. It is possible that this page has been moved or renamed. You can use your browser\\'s Back button to return to the previous page, or <a href=\"/\" class=\"local-link\">go to the homepage</a>, and search for the information you are looking for.</p>\\n<p>If you think that you have reached this page due to an error on our part, <a href=\"/contact/\" class=\"local-link\">please contact us</a>.</p>\\n\\n    \\n    <div style=\"text-align: center; font-style: italic; padding: 3em 0.5em 0em 0.5em;\">\\n  <a href=\"https://github.com/18F/api.data.gov/blob/master/source/404.html.erb\">Help Improve this Content</a>\\n</div>\\n\\n          </div>\\n    </main>\\n    <!-- /.main -->\\n  </div>\\n  <!-- /.content -->\\n</div>\\n<!-- /.wrap -->\\n\\n\\n<footer class=\"content-info\" role=\"contentinfo\">\\n  <div class=\"container\">\\n    <div class=\"row\">\\n      <div class=\"col-md-6 col-lg-6\">\\n        <div class=\"footer-logo\">\\n          <a class=\"logo-brand local-link\" href=\"https://www.data.gov/\" alt=\"Data.gov\">Data.gov</a>\\n        </div>\\n        <ul id=\"menu-footer2\" class=\"nav\"><li class=\"menu-privacy-and-website-policies\"><a href=\"https://www.data.gov/privacy-policy\" class=\"local-link\">Privacy and Website Policies</a></li>\\n          <li class=\"menu-usa-gov\"><a href=\"https://www.usa.gov/\" class=\"external ext-link\" rel=\"external\" onclick=\"this.target=&#039;_blank&#039;;\">USA.GOV</a></li>\\n          <li class=\"menu-performance-gov\"><a href=\"http://www.performance.gov/\" class=\"external ext-link\" rel=\"external\" onclick=\"this.target=&#039;_blank&#039;;\">PERFORMANCE.GOV</a></li>\\n        </ul>\\n      </div>\\n      <nav class=\"col-md-3 col-lg-3\" role=\"navigation\">\\n        <ul id=\"menu-footer\" class=\"nav\"><li class=\"menu-about\"><a href=\"https://www.data.gov/about\" class=\"local-link\">About</a></li>\\n          <li class=\"menu-open-government\"><a href=\"https://www.data.gov/open-gov/\" class=\"local-link\">Open Government</a></li>\\n          <li class=\"menu-blog\"><a href=\"https://www.data.gov/meta/\" class=\"local-link\">Blog</a></li>\\n          <li class=\"menu-metrics\"><a href=\"https://www.data.gov/metrics\" class=\"local-link\">Metrics</a></li>\\n          <li class=\"menu-events\"><a href=\"https://www.data.gov/events/\">Events</a></li>\\n          <li class=\"menu-log-in\"><a href=\"/admin/\" class=\"local-link\">Log In</a></li>\\n        </ul>\\n      </nav>\\n      <div class=\"col-md-3 col-lg-3 social-nav\">\\n        <nav role=\"navigation\">\\n          <ul id=\"menu-social_navigation\" class=\"nav\"><li><a href=\"https://twitter.com/usdatagov\" title=\"This link will direct you to an external website that may have different content and privacy policies from Data.gov.\" class=\"local-link\"><i class=\"fa fa-twitter\" ></i><span>Twitter</span></a></li>\\n            <li><a href=\"http://github.com/GSA/data.gov/\" title=\"This link will direct you to an external website that may have different content and privacy policies from Data.gov.\" class=\"local-link\"><i class=\"fa fa-github\" ></i><span>Github</span></a></li>\\n          </ul>\\n        </nav>\\n      </div>\\n    </div>\\n  </div>\\n</footer>\\n\\n  </body>\\n</html>\\n'"
      ]
     },
     "execution_count": 13,
     "metadata": {},
     "output_type": "execute_result"
    }
   ],
   "source": [
    "result.text"
   ]
  },
  {
   "cell_type": "code",
   "execution_count": 14,
   "metadata": {},
   "outputs": [
    {
     "ename": "JSONDecodeError",
     "evalue": "Expecting value: line 1 column 1 (char 0)",
     "output_type": "error",
     "traceback": [
      "\u001b[1;31m---------------------------------------------------------------------------\u001b[0m",
      "\u001b[1;31mJSONDecodeError\u001b[0m                           Traceback (most recent call last)",
      "\u001b[1;32m<ipython-input-14-a56753af43a4>\u001b[0m in \u001b[0;36m<module>\u001b[1;34m\u001b[0m\n\u001b[1;32m----> 1\u001b[1;33m \u001b[0mresult\u001b[0m\u001b[1;33m.\u001b[0m\u001b[0mjson\u001b[0m\u001b[1;33m(\u001b[0m\u001b[1;33m)\u001b[0m\u001b[1;33m\u001b[0m\u001b[1;33m\u001b[0m\u001b[0m\n\u001b[0m",
      "\u001b[1;32m~\\anaconda3\\lib\\site-packages\\requests\\models.py\u001b[0m in \u001b[0;36mjson\u001b[1;34m(self, **kwargs)\u001b[0m\n\u001b[0;32m    896\u001b[0m                     \u001b[1;31m# used.\u001b[0m\u001b[1;33m\u001b[0m\u001b[1;33m\u001b[0m\u001b[1;33m\u001b[0m\u001b[0m\n\u001b[0;32m    897\u001b[0m                     \u001b[1;32mpass\u001b[0m\u001b[1;33m\u001b[0m\u001b[1;33m\u001b[0m\u001b[0m\n\u001b[1;32m--> 898\u001b[1;33m         \u001b[1;32mreturn\u001b[0m \u001b[0mcomplexjson\u001b[0m\u001b[1;33m.\u001b[0m\u001b[0mloads\u001b[0m\u001b[1;33m(\u001b[0m\u001b[0mself\u001b[0m\u001b[1;33m.\u001b[0m\u001b[0mtext\u001b[0m\u001b[1;33m,\u001b[0m \u001b[1;33m**\u001b[0m\u001b[0mkwargs\u001b[0m\u001b[1;33m)\u001b[0m\u001b[1;33m\u001b[0m\u001b[1;33m\u001b[0m\u001b[0m\n\u001b[0m\u001b[0;32m    899\u001b[0m \u001b[1;33m\u001b[0m\u001b[0m\n\u001b[0;32m    900\u001b[0m     \u001b[1;33m@\u001b[0m\u001b[0mproperty\u001b[0m\u001b[1;33m\u001b[0m\u001b[1;33m\u001b[0m\u001b[0m\n",
      "\u001b[1;32m~\\anaconda3\\lib\\json\\__init__.py\u001b[0m in \u001b[0;36mloads\u001b[1;34m(s, encoding, cls, object_hook, parse_float, parse_int, parse_constant, object_pairs_hook, **kw)\u001b[0m\n\u001b[0;32m    346\u001b[0m             \u001b[0mparse_int\u001b[0m \u001b[1;32mis\u001b[0m \u001b[1;32mNone\u001b[0m \u001b[1;32mand\u001b[0m \u001b[0mparse_float\u001b[0m \u001b[1;32mis\u001b[0m \u001b[1;32mNone\u001b[0m \u001b[1;32mand\u001b[0m\u001b[1;33m\u001b[0m\u001b[1;33m\u001b[0m\u001b[0m\n\u001b[0;32m    347\u001b[0m             parse_constant is None and object_pairs_hook is None and not kw):\n\u001b[1;32m--> 348\u001b[1;33m         \u001b[1;32mreturn\u001b[0m \u001b[0m_default_decoder\u001b[0m\u001b[1;33m.\u001b[0m\u001b[0mdecode\u001b[0m\u001b[1;33m(\u001b[0m\u001b[0ms\u001b[0m\u001b[1;33m)\u001b[0m\u001b[1;33m\u001b[0m\u001b[1;33m\u001b[0m\u001b[0m\n\u001b[0m\u001b[0;32m    349\u001b[0m     \u001b[1;32mif\u001b[0m \u001b[0mcls\u001b[0m \u001b[1;32mis\u001b[0m \u001b[1;32mNone\u001b[0m\u001b[1;33m:\u001b[0m\u001b[1;33m\u001b[0m\u001b[1;33m\u001b[0m\u001b[0m\n\u001b[0;32m    350\u001b[0m         \u001b[0mcls\u001b[0m \u001b[1;33m=\u001b[0m \u001b[0mJSONDecoder\u001b[0m\u001b[1;33m\u001b[0m\u001b[1;33m\u001b[0m\u001b[0m\n",
      "\u001b[1;32m~\\anaconda3\\lib\\json\\decoder.py\u001b[0m in \u001b[0;36mdecode\u001b[1;34m(self, s, _w)\u001b[0m\n\u001b[0;32m    335\u001b[0m \u001b[1;33m\u001b[0m\u001b[0m\n\u001b[0;32m    336\u001b[0m         \"\"\"\n\u001b[1;32m--> 337\u001b[1;33m         \u001b[0mobj\u001b[0m\u001b[1;33m,\u001b[0m \u001b[0mend\u001b[0m \u001b[1;33m=\u001b[0m \u001b[0mself\u001b[0m\u001b[1;33m.\u001b[0m\u001b[0mraw_decode\u001b[0m\u001b[1;33m(\u001b[0m\u001b[0ms\u001b[0m\u001b[1;33m,\u001b[0m \u001b[0midx\u001b[0m\u001b[1;33m=\u001b[0m\u001b[0m_w\u001b[0m\u001b[1;33m(\u001b[0m\u001b[0ms\u001b[0m\u001b[1;33m,\u001b[0m \u001b[1;36m0\u001b[0m\u001b[1;33m)\u001b[0m\u001b[1;33m.\u001b[0m\u001b[0mend\u001b[0m\u001b[1;33m(\u001b[0m\u001b[1;33m)\u001b[0m\u001b[1;33m)\u001b[0m\u001b[1;33m\u001b[0m\u001b[1;33m\u001b[0m\u001b[0m\n\u001b[0m\u001b[0;32m    338\u001b[0m         \u001b[0mend\u001b[0m \u001b[1;33m=\u001b[0m \u001b[0m_w\u001b[0m\u001b[1;33m(\u001b[0m\u001b[0ms\u001b[0m\u001b[1;33m,\u001b[0m \u001b[0mend\u001b[0m\u001b[1;33m)\u001b[0m\u001b[1;33m.\u001b[0m\u001b[0mend\u001b[0m\u001b[1;33m(\u001b[0m\u001b[1;33m)\u001b[0m\u001b[1;33m\u001b[0m\u001b[1;33m\u001b[0m\u001b[0m\n\u001b[0;32m    339\u001b[0m         \u001b[1;32mif\u001b[0m \u001b[0mend\u001b[0m \u001b[1;33m!=\u001b[0m \u001b[0mlen\u001b[0m\u001b[1;33m(\u001b[0m\u001b[0ms\u001b[0m\u001b[1;33m)\u001b[0m\u001b[1;33m:\u001b[0m\u001b[1;33m\u001b[0m\u001b[1;33m\u001b[0m\u001b[0m\n",
      "\u001b[1;32m~\\anaconda3\\lib\\json\\decoder.py\u001b[0m in \u001b[0;36mraw_decode\u001b[1;34m(self, s, idx)\u001b[0m\n\u001b[0;32m    353\u001b[0m             \u001b[0mobj\u001b[0m\u001b[1;33m,\u001b[0m \u001b[0mend\u001b[0m \u001b[1;33m=\u001b[0m \u001b[0mself\u001b[0m\u001b[1;33m.\u001b[0m\u001b[0mscan_once\u001b[0m\u001b[1;33m(\u001b[0m\u001b[0ms\u001b[0m\u001b[1;33m,\u001b[0m \u001b[0midx\u001b[0m\u001b[1;33m)\u001b[0m\u001b[1;33m\u001b[0m\u001b[1;33m\u001b[0m\u001b[0m\n\u001b[0;32m    354\u001b[0m         \u001b[1;32mexcept\u001b[0m \u001b[0mStopIteration\u001b[0m \u001b[1;32mas\u001b[0m \u001b[0merr\u001b[0m\u001b[1;33m:\u001b[0m\u001b[1;33m\u001b[0m\u001b[1;33m\u001b[0m\u001b[0m\n\u001b[1;32m--> 355\u001b[1;33m             \u001b[1;32mraise\u001b[0m \u001b[0mJSONDecodeError\u001b[0m\u001b[1;33m(\u001b[0m\u001b[1;34m\"Expecting value\"\u001b[0m\u001b[1;33m,\u001b[0m \u001b[0ms\u001b[0m\u001b[1;33m,\u001b[0m \u001b[0merr\u001b[0m\u001b[1;33m.\u001b[0m\u001b[0mvalue\u001b[0m\u001b[1;33m)\u001b[0m \u001b[1;32mfrom\u001b[0m \u001b[1;32mNone\u001b[0m\u001b[1;33m\u001b[0m\u001b[1;33m\u001b[0m\u001b[0m\n\u001b[0m\u001b[0;32m    356\u001b[0m         \u001b[1;32mreturn\u001b[0m \u001b[0mobj\u001b[0m\u001b[1;33m,\u001b[0m \u001b[0mend\u001b[0m\u001b[1;33m\u001b[0m\u001b[1;33m\u001b[0m\u001b[0m\n",
      "\u001b[1;31mJSONDecodeError\u001b[0m: Expecting value: line 1 column 1 (char 0)"
     ]
    }
   ],
   "source": []
  },
  {
   "cell_type": "code",
   "execution_count": null,
   "metadata": {},
   "outputs": [],
   "source": []
  }
 ],
 "metadata": {
  "kernelspec": {
   "display_name": "Python 3",
   "language": "python",
   "name": "python3"
  },
  "language_info": {
   "codemirror_mode": {
    "name": "ipython",
    "version": 3
   },
   "file_extension": ".py",
   "mimetype": "text/x-python",
   "name": "python",
   "nbconvert_exporter": "python",
   "pygments_lexer": "ipython3",
   "version": "3.7.6"
  }
 },
 "nbformat": 4,
 "nbformat_minor": 4
}
